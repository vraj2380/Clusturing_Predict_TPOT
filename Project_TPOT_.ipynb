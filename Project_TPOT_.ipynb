{
 "cells": [
  {
   "cell_type": "code",
   "execution_count": 3,
   "id": "1635699b",
   "metadata": {},
   "outputs": [
    {
     "name": "stdout",
     "output_type": "stream",
     "text": [
      "Requirement already satisfied: tpot in d:\\anaconda3\\lib\\site-packages (0.11.7)\n",
      "Requirement already satisfied: pandas>=0.24.2 in d:\\anaconda3\\lib\\site-packages (from tpot) (1.3.4)\n",
      "Requirement already satisfied: update-checker>=0.16 in d:\\anaconda3\\lib\\site-packages (from tpot) (0.18.0)\n",
      "Requirement already satisfied: tqdm>=4.36.1 in d:\\anaconda3\\lib\\site-packages (from tpot) (4.62.3)\n",
      "Requirement already satisfied: xgboost>=1.1.0 in d:\\anaconda3\\lib\\site-packages (from tpot) (1.5.1)\n",
      "Requirement already satisfied: scikit-learn>=0.22.0 in d:\\anaconda3\\lib\\site-packages (from tpot) (1.0.2)\n",
      "Requirement already satisfied: joblib>=0.13.2 in d:\\anaconda3\\lib\\site-packages (from tpot) (1.1.0)\n",
      "Requirement already satisfied: deap>=1.2 in d:\\anaconda3\\lib\\site-packages (from tpot) (1.3.1)\n",
      "Requirement already satisfied: stopit>=1.1.1 in d:\\anaconda3\\lib\\site-packages (from tpot) (1.1.2)\n",
      "Requirement already satisfied: numpy>=1.16.3 in d:\\anaconda3\\lib\\site-packages (from tpot) (1.20.3)\n",
      "Requirement already satisfied: scipy>=1.3.1 in d:\\anaconda3\\lib\\site-packages (from tpot) (1.7.1)\n",
      "Requirement already satisfied: pytz>=2017.3 in d:\\anaconda3\\lib\\site-packages (from pandas>=0.24.2->tpot) (2021.3)\n",
      "Requirement already satisfied: python-dateutil>=2.7.3 in d:\\anaconda3\\lib\\site-packages (from pandas>=0.24.2->tpot) (2.8.2)\n",
      "Requirement already satisfied: six>=1.5 in d:\\anaconda3\\lib\\site-packages (from python-dateutil>=2.7.3->pandas>=0.24.2->tpot) (1.16.0)\n",
      "Requirement already satisfied: threadpoolctl>=2.0.0 in d:\\anaconda3\\lib\\site-packages (from scikit-learn>=0.22.0->tpot) (2.2.0)\n",
      "Requirement already satisfied: colorama in d:\\anaconda3\\lib\\site-packages (from tqdm>=4.36.1->tpot) (0.4.4)\n",
      "Requirement already satisfied: requests>=2.3.0 in d:\\anaconda3\\lib\\site-packages (from update-checker>=0.16->tpot) (2.27.1)\n",
      "Requirement already satisfied: idna<4,>=2.5 in d:\\anaconda3\\lib\\site-packages (from requests>=2.3.0->update-checker>=0.16->tpot) (2.6)\n",
      "Requirement already satisfied: charset-normalizer~=2.0.0 in d:\\anaconda3\\lib\\site-packages (from requests>=2.3.0->update-checker>=0.16->tpot) (2.0.4)\n",
      "Requirement already satisfied: urllib3<1.27,>=1.21.1 in d:\\anaconda3\\lib\\site-packages (from requests>=2.3.0->update-checker>=0.16->tpot) (1.22)\n",
      "Requirement already satisfied: certifi>=2017.4.17 in d:\\anaconda3\\lib\\site-packages (from requests>=2.3.0->update-checker>=0.16->tpot) (2021.10.8)\n",
      "Note: you may need to restart the kernel to use updated packages.\n"
     ]
    }
   ],
   "source": [
    "pip install tpot"
   ]
  },
  {
   "cell_type": "code",
   "execution_count": 4,
   "id": "e82c0380",
   "metadata": {},
   "outputs": [
    {
     "name": "stdout",
     "output_type": "stream",
     "text": [
      "Collecting wordcloud\n",
      "  Using cached wordcloud-1.8.1.tar.gz (220 kB)\n",
      "Requirement already satisfied: numpy>=1.6.1 in d:\\anaconda3\\lib\\site-packages (from wordcloud) (1.20.3)\n",
      "Requirement already satisfied: pillow in d:\\anaconda3\\lib\\site-packages (from wordcloud) (8.4.0)\n",
      "Requirement already satisfied: matplotlib in d:\\anaconda3\\lib\\site-packages (from wordcloud) (3.4.3)\n",
      "Requirement already satisfied: pyparsing>=2.2.1 in d:\\anaconda3\\lib\\site-packages (from matplotlib->wordcloud) (3.0.4)\n",
      "Requirement already satisfied: python-dateutil>=2.7 in d:\\anaconda3\\lib\\site-packages (from matplotlib->wordcloud) (2.8.2)\n",
      "Requirement already satisfied: kiwisolver>=1.0.1 in d:\\anaconda3\\lib\\site-packages (from matplotlib->wordcloud) (1.3.1)\n",
      "Requirement already satisfied: cycler>=0.10 in d:\\anaconda3\\lib\\site-packages (from matplotlib->wordcloud) (0.10.0)\n",
      "Requirement already satisfied: six in d:\\anaconda3\\lib\\site-packages (from cycler>=0.10->matplotlib->wordcloud) (1.16.0)\n",
      "Building wheels for collected packages: wordcloud\n",
      "  Building wheel for wordcloud (setup.py): started\n",
      "  Building wheel for wordcloud (setup.py): finished with status 'error'\n",
      "  Running setup.py clean for wordcloud\n",
      "Failed to build wordcloud\n",
      "Installing collected packages: wordcloud\n",
      "    Running setup.py install for wordcloud: started\n",
      "    Running setup.py install for wordcloud: finished with status 'error'\n",
      "Note: you may need to restart the kernel to use updated packages.\n"
     ]
    },
    {
     "name": "stderr",
     "output_type": "stream",
     "text": [
      "  ERROR: Command errored out with exit status 1:\n",
      "   command: 'D:\\anaconda3\\python.exe' -u -c 'import io, os, sys, setuptools, tokenize; sys.argv[0] = '\"'\"'C:\\\\Users\\\\Jeet\\\\AppData\\\\Local\\\\Temp\\\\pip-install-yq0zo2kt\\\\wordcloud_9e7537cc8c7a4b9eb5bba25717f01a3e\\\\setup.py'\"'\"'; __file__='\"'\"'C:\\\\Users\\\\Jeet\\\\AppData\\\\Local\\\\Temp\\\\pip-install-yq0zo2kt\\\\wordcloud_9e7537cc8c7a4b9eb5bba25717f01a3e\\\\setup.py'\"'\"';f = getattr(tokenize, '\"'\"'open'\"'\"', open)(__file__) if os.path.exists(__file__) else io.StringIO('\"'\"'from setuptools import setup; setup()'\"'\"');code = f.read().replace('\"'\"'\\r\\n'\"'\"', '\"'\"'\\n'\"'\"');f.close();exec(compile(code, __file__, '\"'\"'exec'\"'\"'))' bdist_wheel -d 'C:\\Users\\Jeet\\AppData\\Local\\Temp\\pip-wheel-k197syfb'\n",
      "       cwd: C:\\Users\\Jeet\\AppData\\Local\\Temp\\pip-install-yq0zo2kt\\wordcloud_9e7537cc8c7a4b9eb5bba25717f01a3e\\\n",
      "  Complete output (26 lines):\n",
      "  running bdist_wheel\n",
      "  running build\n",
      "  running build_py\n",
      "  creating build\n",
      "  creating build\\lib.win-amd64-3.9\n",
      "  creating build\\lib.win-amd64-3.9\\wordcloud\n",
      "  copying wordcloud\\color_from_image.py -> build\\lib.win-amd64-3.9\\wordcloud\n",
      "  copying wordcloud\\tokenization.py -> build\\lib.win-amd64-3.9\\wordcloud\n",
      "  copying wordcloud\\wordcloud.py -> build\\lib.win-amd64-3.9\\wordcloud\n",
      "  copying wordcloud\\wordcloud_cli.py -> build\\lib.win-amd64-3.9\\wordcloud\n",
      "  copying wordcloud\\_version.py -> build\\lib.win-amd64-3.9\\wordcloud\n",
      "  copying wordcloud\\__init__.py -> build\\lib.win-amd64-3.9\\wordcloud\n",
      "  copying wordcloud\\__main__.py -> build\\lib.win-amd64-3.9\\wordcloud\n",
      "  copying wordcloud\\stopwords -> build\\lib.win-amd64-3.9\\wordcloud\n",
      "  copying wordcloud\\DroidSansMono.ttf -> build\\lib.win-amd64-3.9\\wordcloud\n",
      "  UPDATING build\\lib.win-amd64-3.9\\wordcloud/_version.py\n",
      "  set build\\lib.win-amd64-3.9\\wordcloud/_version.py to '1.8.1'\n",
      "  running build_ext\n",
      "  building 'wordcloud.query_integral_image' extension\n",
      "  creating build\\temp.win-amd64-3.9\n",
      "  creating build\\temp.win-amd64-3.9\\Release\n",
      "  creating build\\temp.win-amd64-3.9\\Release\\wordcloud\n",
      "  C:\\Program Files (x86)\\Microsoft Visual Studio\\2017\\Community\\VC\\Tools\\MSVC\\14.16.27023\\bin\\HostX86\\x64\\cl.exe /c /nologo /Ox /W3 /GL /DNDEBUG /MD -ID:\\anaconda3\\include -ID:\\anaconda3\\include -IC:\\Program Files (x86)\\Microsoft Visual Studio\\2017\\Community\\VC\\Tools\\MSVC\\14.16.27023\\ATLMFC\\include -IC:\\Program Files (x86)\\Microsoft Visual Studio\\2017\\Community\\VC\\Tools\\MSVC\\14.16.27023\\include /Tcwordcloud/query_integral_image.c /Fobuild\\temp.win-amd64-3.9\\Release\\wordcloud/query_integral_image.obj\n",
      "  query_integral_image.c\n",
      "  d:\\anaconda3\\include\\pyconfig.h(59): fatal error C1083: Cannot open include file: 'io.h': No such file or directory\n",
      "  error: command 'C:\\\\Program Files (x86)\\\\Microsoft Visual Studio\\\\2017\\\\Community\\\\VC\\\\Tools\\\\MSVC\\\\14.16.27023\\\\bin\\\\HostX86\\\\x64\\\\cl.exe' failed with exit code 2\n",
      "  ----------------------------------------\n",
      "  ERROR: Failed building wheel for wordcloud\n",
      "    ERROR: Command errored out with exit status 1:\n",
      "     command: 'D:\\anaconda3\\python.exe' -u -c 'import io, os, sys, setuptools, tokenize; sys.argv[0] = '\"'\"'C:\\\\Users\\\\Jeet\\\\AppData\\\\Local\\\\Temp\\\\pip-install-yq0zo2kt\\\\wordcloud_9e7537cc8c7a4b9eb5bba25717f01a3e\\\\setup.py'\"'\"'; __file__='\"'\"'C:\\\\Users\\\\Jeet\\\\AppData\\\\Local\\\\Temp\\\\pip-install-yq0zo2kt\\\\wordcloud_9e7537cc8c7a4b9eb5bba25717f01a3e\\\\setup.py'\"'\"';f = getattr(tokenize, '\"'\"'open'\"'\"', open)(__file__) if os.path.exists(__file__) else io.StringIO('\"'\"'from setuptools import setup; setup()'\"'\"');code = f.read().replace('\"'\"'\\r\\n'\"'\"', '\"'\"'\\n'\"'\"');f.close();exec(compile(code, __file__, '\"'\"'exec'\"'\"'))' install --record 'C:\\Users\\Jeet\\AppData\\Local\\Temp\\pip-record-xa4n3l5z\\install-record.txt' --single-version-externally-managed --compile --install-headers 'D:\\anaconda3\\Include\\wordcloud'\n",
      "         cwd: C:\\Users\\Jeet\\AppData\\Local\\Temp\\pip-install-yq0zo2kt\\wordcloud_9e7537cc8c7a4b9eb5bba25717f01a3e\\\n",
      "    Complete output (26 lines):\n",
      "    running install\n",
      "    running build\n",
      "    running build_py\n",
      "    creating build\n",
      "    creating build\\lib.win-amd64-3.9\n",
      "    creating build\\lib.win-amd64-3.9\\wordcloud\n",
      "    copying wordcloud\\color_from_image.py -> build\\lib.win-amd64-3.9\\wordcloud\n",
      "    copying wordcloud\\tokenization.py -> build\\lib.win-amd64-3.9\\wordcloud\n",
      "    copying wordcloud\\wordcloud.py -> build\\lib.win-amd64-3.9\\wordcloud\n",
      "    copying wordcloud\\wordcloud_cli.py -> build\\lib.win-amd64-3.9\\wordcloud\n",
      "    copying wordcloud\\_version.py -> build\\lib.win-amd64-3.9\\wordcloud\n",
      "    copying wordcloud\\__init__.py -> build\\lib.win-amd64-3.9\\wordcloud\n",
      "    copying wordcloud\\__main__.py -> build\\lib.win-amd64-3.9\\wordcloud\n",
      "    copying wordcloud\\stopwords -> build\\lib.win-amd64-3.9\\wordcloud\n",
      "    copying wordcloud\\DroidSansMono.ttf -> build\\lib.win-amd64-3.9\\wordcloud\n",
      "    UPDATING build\\lib.win-amd64-3.9\\wordcloud/_version.py\n",
      "    set build\\lib.win-amd64-3.9\\wordcloud/_version.py to '1.8.1'\n",
      "    running build_ext\n",
      "    building 'wordcloud.query_integral_image' extension\n",
      "    creating build\\temp.win-amd64-3.9\n",
      "    creating build\\temp.win-amd64-3.9\\Release\n",
      "    creating build\\temp.win-amd64-3.9\\Release\\wordcloud\n",
      "    C:\\Program Files (x86)\\Microsoft Visual Studio\\2017\\Community\\VC\\Tools\\MSVC\\14.16.27023\\bin\\HostX86\\x64\\cl.exe /c /nologo /Ox /W3 /GL /DNDEBUG /MD -ID:\\anaconda3\\include -ID:\\anaconda3\\include -IC:\\Program Files (x86)\\Microsoft Visual Studio\\2017\\Community\\VC\\Tools\\MSVC\\14.16.27023\\ATLMFC\\include -IC:\\Program Files (x86)\\Microsoft Visual Studio\\2017\\Community\\VC\\Tools\\MSVC\\14.16.27023\\include /Tcwordcloud/query_integral_image.c /Fobuild\\temp.win-amd64-3.9\\Release\\wordcloud/query_integral_image.obj\n",
      "    query_integral_image.c\n",
      "    d:\\anaconda3\\include\\pyconfig.h(59): fatal error C1083: Cannot open include file: 'io.h': No such file or directory\n",
      "    error: command 'C:\\\\Program Files (x86)\\\\Microsoft Visual Studio\\\\2017\\\\Community\\\\VC\\\\Tools\\\\MSVC\\\\14.16.27023\\\\bin\\\\HostX86\\\\x64\\\\cl.exe' failed with exit code 2\n",
      "    ----------------------------------------\n",
      "ERROR: Command errored out with exit status 1: 'D:\\anaconda3\\python.exe' -u -c 'import io, os, sys, setuptools, tokenize; sys.argv[0] = '\"'\"'C:\\\\Users\\\\Jeet\\\\AppData\\\\Local\\\\Temp\\\\pip-install-yq0zo2kt\\\\wordcloud_9e7537cc8c7a4b9eb5bba25717f01a3e\\\\setup.py'\"'\"'; __file__='\"'\"'C:\\\\Users\\\\Jeet\\\\AppData\\\\Local\\\\Temp\\\\pip-install-yq0zo2kt\\\\wordcloud_9e7537cc8c7a4b9eb5bba25717f01a3e\\\\setup.py'\"'\"';f = getattr(tokenize, '\"'\"'open'\"'\"', open)(__file__) if os.path.exists(__file__) else io.StringIO('\"'\"'from setuptools import setup; setup()'\"'\"');code = f.read().replace('\"'\"'\\r\\n'\"'\"', '\"'\"'\\n'\"'\"');f.close();exec(compile(code, __file__, '\"'\"'exec'\"'\"'))' install --record 'C:\\Users\\Jeet\\AppData\\Local\\Temp\\pip-record-xa4n3l5z\\install-record.txt' --single-version-externally-managed --compile --install-headers 'D:\\anaconda3\\Include\\wordcloud' Check the logs for full command output.\n"
     ]
    }
   ],
   "source": [
    "pip install wordcloud"
   ]
  },
  {
   "cell_type": "code",
   "execution_count": 5,
   "id": "3c046ff4",
   "metadata": {},
   "outputs": [],
   "source": [
    "import numpy as np \n",
    "import pandas as pd \n",
    "import os\n",
    "import math\n",
    "import matplotlib.pyplot as plt\n",
    "import seaborn as sns\n",
    "from sklearn import preprocessing\n",
    "from tpot import TPOTRegressor\n",
    "from sklearn.feature_extraction.text import TfidfVectorizer\n",
    "from sklearn.cluster import KMeans, MiniBatchKMeans\n",
    "from sklearn.model_selection import train_test_split\n",
    "# K-Means\n",
    "from sklearn import cluster\n",
    "from tpot import TPOTRegressor\n",
    "\n",
    "# Corpus Processing\n",
    "import re\n",
    "import nltk.corpus\n",
    "from unidecode                        import unidecode\n",
    "from nltk.tokenize                    import word_tokenize\n",
    "from nltk                             import SnowballStemmer\n",
    "from sklearn.feature_extraction.text  import TfidfVectorizer\n",
    "from sklearn.preprocessing            import normalize\n",
    "from sklearn.metrics                  import silhouette_samples, silhouette_score\n",
    "#from wordcloud                        import WordCloud\n",
    "\n",
    "import matplotlib.pyplot  as plt\n",
    "import matplotlib.cm      as cm\n",
    "import seaborn            as sns\n",
    "\n",
    "\n",
    "\n",
    "# from plotly import tools\n",
    "from IPython.core import display as ICD\n",
    "# import plotly.graph_objs as go\n",
    "# from plotly.offline import init_notebook_mode, iplot\n",
    "import warnings\n",
    "warnings.filterwarnings(\"ignore\")\n",
    "# init_notebook_mode(connected=True)\n",
    "pd.set_option('display.max_columns', 5000)"
   ]
  },
  {
   "cell_type": "code",
   "execution_count": 6,
   "id": "8e53a1a9",
   "metadata": {},
   "outputs": [],
   "source": [
    "udemyData = pd.read_csv(\"Udemy_Courses.csv\")"
   ]
  },
  {
   "cell_type": "markdown",
   "id": "11fcf312",
   "metadata": {},
   "source": [
    "# Data Information"
   ]
  },
  {
   "cell_type": "markdown",
   "id": "758479e4",
   "metadata": {},
   "source": [
    "Data is more than just rows and columns.\n",
    "\n",
    "    Index : Index of rows\n",
    "    Title : Title of Course\n",
    "    Summary : Summary information of the course\n",
    "    Enrollment : The cumulative number of students in the course\n",
    "    Stars: Average Rating of the course\n",
    "    Rating : The number of ratings (reviews) of the course\n",
    "    Link: Link to detail page of the course\n",
    "    Category: Category of course from which it related."
   ]
  },
  {
   "cell_type": "code",
   "execution_count": 7,
   "id": "bdd8e0b9",
   "metadata": {},
   "outputs": [
    {
     "data": {
      "text/html": [
       "<div>\n",
       "<style scoped>\n",
       "    .dataframe tbody tr th:only-of-type {\n",
       "        vertical-align: middle;\n",
       "    }\n",
       "\n",
       "    .dataframe tbody tr th {\n",
       "        vertical-align: top;\n",
       "    }\n",
       "\n",
       "    .dataframe thead th {\n",
       "        text-align: right;\n",
       "    }\n",
       "</style>\n",
       "<table border=\"1\" class=\"dataframe\">\n",
       "  <thead>\n",
       "    <tr style=\"text-align: right;\">\n",
       "      <th></th>\n",
       "      <th>Title</th>\n",
       "      <th>Summary</th>\n",
       "      <th>Enrollment</th>\n",
       "      <th>Stars</th>\n",
       "      <th>Rating</th>\n",
       "      <th>Link</th>\n",
       "      <th>Category</th>\n",
       "    </tr>\n",
       "  </thead>\n",
       "  <tbody>\n",
       "    <tr>\n",
       "      <th>0</th>\n",
       "      <td>2020 Complete Python Bootcamp: From Zero to He...</td>\n",
       "      <td>Learn Python like a Professional! Start from t...</td>\n",
       "      <td>1100093</td>\n",
       "      <td>4.6</td>\n",
       "      <td>318066</td>\n",
       "      <td>https://www.udemy.com/course/complete-python-b...</td>\n",
       "      <td>Tech</td>\n",
       "    </tr>\n",
       "    <tr>\n",
       "      <th>1</th>\n",
       "      <td>The Web Developer Bootcamp</td>\n",
       "      <td>The only course you need to learn web developm...</td>\n",
       "      <td>596726</td>\n",
       "      <td>4.6</td>\n",
       "      <td>182997</td>\n",
       "      <td>https://www.udemy.com/course/the-web-developer...</td>\n",
       "      <td>Tech</td>\n",
       "    </tr>\n",
       "    <tr>\n",
       "      <th>2</th>\n",
       "      <td>Machine Learning A-Z™: Hands-On Python &amp; R In ...</td>\n",
       "      <td>Learn to create Machine Learning Algorithms in...</td>\n",
       "      <td>692812</td>\n",
       "      <td>4.5</td>\n",
       "      <td>132228</td>\n",
       "      <td>https://www.udemy.com/course/machinelearning/</td>\n",
       "      <td>Tech</td>\n",
       "    </tr>\n",
       "    <tr>\n",
       "      <th>3</th>\n",
       "      <td>Angular - The Complete Guide (2020 Edition)</td>\n",
       "      <td>Master Angular 10 (formerly \"Angular 2\") and b...</td>\n",
       "      <td>422557</td>\n",
       "      <td>4.6</td>\n",
       "      <td>129984</td>\n",
       "      <td>https://www.udemy.com/course/the-complete-guid...</td>\n",
       "      <td>Tech</td>\n",
       "    </tr>\n",
       "    <tr>\n",
       "      <th>4</th>\n",
       "      <td>Java Programming Masterclass for Software Deve...</td>\n",
       "      <td>Learn Java In This Course And Become a Compute...</td>\n",
       "      <td>502572</td>\n",
       "      <td>4.6</td>\n",
       "      <td>123798</td>\n",
       "      <td>https://www.udemy.com/course/java-the-complete...</td>\n",
       "      <td>Tech</td>\n",
       "    </tr>\n",
       "  </tbody>\n",
       "</table>\n",
       "</div>"
      ],
      "text/plain": [
       "                                               Title  \\\n",
       "0  2020 Complete Python Bootcamp: From Zero to He...   \n",
       "1                         The Web Developer Bootcamp   \n",
       "2  Machine Learning A-Z™: Hands-On Python & R In ...   \n",
       "3        Angular - The Complete Guide (2020 Edition)   \n",
       "4  Java Programming Masterclass for Software Deve...   \n",
       "\n",
       "                                             Summary  Enrollment  Stars  \\\n",
       "0  Learn Python like a Professional! Start from t...     1100093    4.6   \n",
       "1  The only course you need to learn web developm...      596726    4.6   \n",
       "2  Learn to create Machine Learning Algorithms in...      692812    4.5   \n",
       "3  Master Angular 10 (formerly \"Angular 2\") and b...      422557    4.6   \n",
       "4  Learn Java In This Course And Become a Compute...      502572    4.6   \n",
       "\n",
       "   Rating                                               Link Category  \n",
       "0  318066  https://www.udemy.com/course/complete-python-b...     Tech  \n",
       "1  182997  https://www.udemy.com/course/the-web-developer...     Tech  \n",
       "2  132228      https://www.udemy.com/course/machinelearning/     Tech  \n",
       "3  129984  https://www.udemy.com/course/the-complete-guid...     Tech  \n",
       "4  123798  https://www.udemy.com/course/java-the-complete...     Tech  "
      ]
     },
     "execution_count": 7,
     "metadata": {},
     "output_type": "execute_result"
    }
   ],
   "source": [
    "udemyData.head(5)"
   ]
  },
  {
   "cell_type": "code",
   "execution_count": 8,
   "id": "b3220639",
   "metadata": {},
   "outputs": [
    {
     "data": {
      "text/plain": [
       "(44571, 7)"
      ]
     },
     "execution_count": 8,
     "metadata": {},
     "output_type": "execute_result"
    }
   ],
   "source": [
    "# number of features and data points\n",
    "udemyData.shape"
   ]
  },
  {
   "cell_type": "code",
   "execution_count": 9,
   "id": "d59bc057",
   "metadata": {},
   "outputs": [
    {
     "name": "stdout",
     "output_type": "stream",
     "text": [
      "<class 'pandas.core.frame.DataFrame'>\n",
      "RangeIndex: 44571 entries, 0 to 44570\n",
      "Data columns (total 7 columns):\n",
      " #   Column      Non-Null Count  Dtype  \n",
      "---  ------      --------------  -----  \n",
      " 0   Title       44571 non-null  object \n",
      " 1   Summary     44571 non-null  object \n",
      " 2   Enrollment  44571 non-null  int64  \n",
      " 3   Stars       44571 non-null  float64\n",
      " 4   Rating      44571 non-null  int64  \n",
      " 5   Link        44571 non-null  object \n",
      " 6   Category    44571 non-null  object \n",
      "dtypes: float64(1), int64(2), object(4)\n",
      "memory usage: 2.4+ MB\n"
     ]
    }
   ],
   "source": [
    "# information on data\n",
    "udemyData.info()"
   ]
  },
  {
   "cell_type": "markdown",
   "id": "dfd1ba4c",
   "metadata": {},
   "source": [
    "# Data Preparation"
   ]
  },
  {
   "cell_type": "markdown",
   "id": "036c3e9c",
   "metadata": {},
   "source": [
    "We can remove unnecessary columns from our data because we do not need text data to analyse the popularity of the course."
   ]
  },
  {
   "cell_type": "code",
   "execution_count": 10,
   "id": "57554c81",
   "metadata": {},
   "outputs": [],
   "source": [
    "udemyData = udemyData.drop(['Summary', 'Link'], axis=1)"
   ]
  },
  {
   "cell_type": "code",
   "execution_count": 11,
   "id": "fa608a0b",
   "metadata": {},
   "outputs": [
    {
     "data": {
      "text/plain": [
       "array(['Tech', 'Marketing', 'Finance', 'Design', 'Business'], dtype=object)"
      ]
     },
     "execution_count": 11,
     "metadata": {},
     "output_type": "execute_result"
    }
   ],
   "source": [
    "# let's check the unqiue values of category feature\n",
    "udemyData['Category'].unique()"
   ]
  },
  {
   "cell_type": "markdown",
   "id": "1048bf37",
   "metadata": {},
   "source": [
    "As we can see we have courses featured from all the fields, total 5 different fields to analyse."
   ]
  },
  {
   "cell_type": "code",
   "execution_count": 12,
   "id": "df409e04",
   "metadata": {},
   "outputs": [
    {
     "data": {
      "text/plain": [
       "Business     9970\n",
       "Tech         9964\n",
       "Design       9962\n",
       "Marketing    8788\n",
       "Finance      5887\n",
       "Name: Category, dtype: int64"
      ]
     },
     "execution_count": 12,
     "metadata": {},
     "output_type": "execute_result"
    }
   ],
   "source": [
    "udemyData['Category'].value_counts()"
   ]
  },
  {
   "cell_type": "code",
   "execution_count": 13,
   "id": "0a98380a",
   "metadata": {},
   "outputs": [
    {
     "data": {
      "image/png": "[encoded data removed]",
      "text/plain": [
       "<Figure size 432x288 with 1 Axes>"
      ]
     },
     "metadata": {
      "needs_background": "light"
     },
     "output_type": "display_data"
    }
   ],
   "source": [
    "plt.hist(udemyData['Category'], density=False, bins=5)  # density=False would make counts\n",
    "plt.ylabel('Count')\n",
    "plt.xlabel('Data');"
   ]
  },
  {
   "cell_type": "markdown",
   "id": "a748495c",
   "metadata": {},
   "source": [
    "Moreover, we have good enough data for all the fields which can analyse and come up with recent and upcoming fields."
   ]
  },
  {
   "cell_type": "code",
   "execution_count": 14,
   "id": "48ab7fcc",
   "metadata": {},
   "outputs": [
    {
     "data": {
      "text/html": [
       "<div>\n",
       "<style scoped>\n",
       "    .dataframe tbody tr th:only-of-type {\n",
       "        vertical-align: middle;\n",
       "    }\n",
       "\n",
       "    .dataframe tbody tr th {\n",
       "        vertical-align: top;\n",
       "    }\n",
       "\n",
       "    .dataframe thead th {\n",
       "        text-align: right;\n",
       "    }\n",
       "</style>\n",
       "<table border=\"1\" class=\"dataframe\">\n",
       "  <thead>\n",
       "    <tr style=\"text-align: right;\">\n",
       "      <th></th>\n",
       "      <th>title</th>\n",
       "      <th>enrollment</th>\n",
       "      <th>stars</th>\n",
       "      <th>rating</th>\n",
       "      <th>category</th>\n",
       "    </tr>\n",
       "  </thead>\n",
       "  <tbody>\n",
       "    <tr>\n",
       "      <th>0</th>\n",
       "      <td>2020 Complete Python Bootcamp: From Zero to He...</td>\n",
       "      <td>1100093</td>\n",
       "      <td>4.6</td>\n",
       "      <td>318066</td>\n",
       "      <td>Tech</td>\n",
       "    </tr>\n",
       "    <tr>\n",
       "      <th>1</th>\n",
       "      <td>The Web Developer Bootcamp</td>\n",
       "      <td>596726</td>\n",
       "      <td>4.6</td>\n",
       "      <td>182997</td>\n",
       "      <td>Tech</td>\n",
       "    </tr>\n",
       "    <tr>\n",
       "      <th>2</th>\n",
       "      <td>Machine Learning A-Z™: Hands-On Python &amp; R In ...</td>\n",
       "      <td>692812</td>\n",
       "      <td>4.5</td>\n",
       "      <td>132228</td>\n",
       "      <td>Tech</td>\n",
       "    </tr>\n",
       "    <tr>\n",
       "      <th>3</th>\n",
       "      <td>Angular - The Complete Guide (2020 Edition)</td>\n",
       "      <td>422557</td>\n",
       "      <td>4.6</td>\n",
       "      <td>129984</td>\n",
       "      <td>Tech</td>\n",
       "    </tr>\n",
       "    <tr>\n",
       "      <th>4</th>\n",
       "      <td>Java Programming Masterclass for Software Deve...</td>\n",
       "      <td>502572</td>\n",
       "      <td>4.6</td>\n",
       "      <td>123798</td>\n",
       "      <td>Tech</td>\n",
       "    </tr>\n",
       "    <tr>\n",
       "      <th>...</th>\n",
       "      <td>...</td>\n",
       "      <td>...</td>\n",
       "      <td>...</td>\n",
       "      <td>...</td>\n",
       "      <td>...</td>\n",
       "    </tr>\n",
       "    <tr>\n",
       "      <th>44566</th>\n",
       "      <td>Business Basics for Professional Entrepreneurs</td>\n",
       "      <td>18</td>\n",
       "      <td>5.0</td>\n",
       "      <td>3</td>\n",
       "      <td>Business</td>\n",
       "    </tr>\n",
       "    <tr>\n",
       "      <th>44567</th>\n",
       "      <td>How to Trend on Skillshare without Followers</td>\n",
       "      <td>373</td>\n",
       "      <td>5.0</td>\n",
       "      <td>3</td>\n",
       "      <td>Business</td>\n",
       "    </tr>\n",
       "    <tr>\n",
       "      <th>44568</th>\n",
       "      <td>Betting Basics - How to become profitable on s...</td>\n",
       "      <td>6</td>\n",
       "      <td>5.0</td>\n",
       "      <td>3</td>\n",
       "      <td>Business</td>\n",
       "    </tr>\n",
       "    <tr>\n",
       "      <th>44569</th>\n",
       "      <td>Level 1 2014 CFA® Program – Corporate Finance</td>\n",
       "      <td>223</td>\n",
       "      <td>4.3</td>\n",
       "      <td>3</td>\n",
       "      <td>Business</td>\n",
       "    </tr>\n",
       "    <tr>\n",
       "      <th>44570</th>\n",
       "      <td>Storytelling In Business</td>\n",
       "      <td>16</td>\n",
       "      <td>3.3</td>\n",
       "      <td>3</td>\n",
       "      <td>Business</td>\n",
       "    </tr>\n",
       "  </tbody>\n",
       "</table>\n",
       "<p>44571 rows × 5 columns</p>\n",
       "</div>"
      ],
      "text/plain": [
       "                                                   title  enrollment  stars  \\\n",
       "0      2020 Complete Python Bootcamp: From Zero to He...     1100093    4.6   \n",
       "1                             The Web Developer Bootcamp      596726    4.6   \n",
       "2      Machine Learning A-Z™: Hands-On Python & R In ...      692812    4.5   \n",
       "3            Angular - The Complete Guide (2020 Edition)      422557    4.6   \n",
       "4      Java Programming Masterclass for Software Deve...      502572    4.6   \n",
       "...                                                  ...         ...    ...   \n",
       "44566     Business Basics for Professional Entrepreneurs          18    5.0   \n",
       "44567       How to Trend on Skillshare without Followers         373    5.0   \n",
       "44568  Betting Basics - How to become profitable on s...           6    5.0   \n",
       "44569      Level 1 2014 CFA® Program – Corporate Finance         223    4.3   \n",
       "44570                           Storytelling In Business          16    3.3   \n",
       "\n",
       "       rating  category  \n",
       "0      318066      Tech  \n",
       "1      182997      Tech  \n",
       "2      132228      Tech  \n",
       "3      129984      Tech  \n",
       "4      123798      Tech  \n",
       "...       ...       ...  \n",
       "44566       3  Business  \n",
       "44567       3  Business  \n",
       "44568       3  Business  \n",
       "44569       3  Business  \n",
       "44570       3  Business  \n",
       "\n",
       "[44571 rows x 5 columns]"
      ]
     },
     "execution_count": 14,
     "metadata": {},
     "output_type": "execute_result"
    }
   ],
   "source": [
    "# renaming all the features\n",
    "udemyData.columns= udemyData.columns.str.lower()\n",
    "udemyData"
   ]
  },
  {
   "cell_type": "code",
   "execution_count": 15,
   "id": "8c55b4e5",
   "metadata": {},
   "outputs": [
    {
     "data": {
      "text/plain": [
       "title         44571\n",
       "enrollment    44571\n",
       "stars         44571\n",
       "rating        44571\n",
       "category      44571\n",
       "dtype: int64"
      ]
     },
     "execution_count": 15,
     "metadata": {},
     "output_type": "execute_result"
    }
   ],
   "source": [
    "udemyData.isnull().count()"
   ]
  },
  {
   "cell_type": "code",
   "execution_count": 16,
   "id": "8c4790e7",
   "metadata": {},
   "outputs": [
    {
     "name": "stdout",
     "output_type": "stream",
     "text": [
      "<class 'pandas.core.frame.DataFrame'>\n",
      "RangeIndex: 44571 entries, 0 to 44570\n",
      "Data columns (total 5 columns):\n",
      " #   Column      Non-Null Count  Dtype  \n",
      "---  ------      --------------  -----  \n",
      " 0   title       44571 non-null  object \n",
      " 1   enrollment  44571 non-null  int64  \n",
      " 2   stars       44571 non-null  float64\n",
      " 3   rating      44571 non-null  int64  \n",
      " 4   category    44571 non-null  object \n",
      "dtypes: float64(1), int64(2), object(2)\n",
      "memory usage: 1.7+ MB\n"
     ]
    }
   ],
   "source": [
    "udemyData.info()"
   ]
  },
  {
   "cell_type": "markdown",
   "id": "7f24c352",
   "metadata": {},
   "source": [
    "Very clear from the above two cells that we do not have any null data or row for any feature."
   ]
  },
  {
   "cell_type": "code",
   "execution_count": 17,
   "id": "ea23de13",
   "metadata": {},
   "outputs": [],
   "source": [
    "# check if ratings are higher than enrollment\n",
    "dataOutlier = udemyData[udemyData['rating'] > udemyData['enrollment']]\n",
    "udemyData = udemyData.drop(dataOutlier.index, axis = 0)"
   ]
  },
  {
   "cell_type": "code",
   "execution_count": 18,
   "id": "ceb05153",
   "metadata": {},
   "outputs": [
    {
     "data": {
      "text/html": [
       "<div>\n",
       "<style scoped>\n",
       "    .dataframe tbody tr th:only-of-type {\n",
       "        vertical-align: middle;\n",
       "    }\n",
       "\n",
       "    .dataframe tbody tr th {\n",
       "        vertical-align: top;\n",
       "    }\n",
       "\n",
       "    .dataframe thead th {\n",
       "        text-align: right;\n",
       "    }\n",
       "</style>\n",
       "<table border=\"1\" class=\"dataframe\">\n",
       "  <thead>\n",
       "    <tr style=\"text-align: right;\">\n",
       "      <th></th>\n",
       "      <th>title</th>\n",
       "      <th>enrollment</th>\n",
       "      <th>stars</th>\n",
       "      <th>rating</th>\n",
       "      <th>category</th>\n",
       "    </tr>\n",
       "  </thead>\n",
       "  <tbody>\n",
       "  </tbody>\n",
       "</table>\n",
       "</div>"
      ],
      "text/plain": [
       "Empty DataFrame\n",
       "Columns: [title, enrollment, stars, rating, category]\n",
       "Index: []"
      ]
     },
     "execution_count": 18,
     "metadata": {},
     "output_type": "execute_result"
    }
   ],
   "source": [
    "# removed outliers from data\n",
    "udemyData[udemyData['rating'] > udemyData['enrollment']]"
   ]
  },
  {
   "cell_type": "code",
   "execution_count": 19,
   "id": "923ffa3b",
   "metadata": {},
   "outputs": [
    {
     "data": {
      "text/plain": [
       "(44554, 5)"
      ]
     },
     "execution_count": 19,
     "metadata": {},
     "output_type": "execute_result"
    }
   ],
   "source": [
    "# final shape of our data\n",
    "udemyData.shape"
   ]
  },
  {
   "cell_type": "code",
   "execution_count": 20,
   "id": "97c6973e",
   "metadata": {},
   "outputs": [],
   "source": [
    "# Label Encoding\n",
    "#udemyData['category'] = preprocessing.LabelEncoder().fit_transform(udemyData['category'])"
   ]
  },
  {
   "cell_type": "code",
   "execution_count": 21,
   "id": "673c90bb",
   "metadata": {},
   "outputs": [
    {
     "data": {
      "text/html": [
       "<div>\n",
       "<style scoped>\n",
       "    .dataframe tbody tr th:only-of-type {\n",
       "        vertical-align: middle;\n",
       "    }\n",
       "\n",
       "    .dataframe tbody tr th {\n",
       "        vertical-align: top;\n",
       "    }\n",
       "\n",
       "    .dataframe thead th {\n",
       "        text-align: right;\n",
       "    }\n",
       "</style>\n",
       "<table border=\"1\" class=\"dataframe\">\n",
       "  <thead>\n",
       "    <tr style=\"text-align: right;\">\n",
       "      <th></th>\n",
       "      <th>title</th>\n",
       "      <th>enrollment</th>\n",
       "      <th>stars</th>\n",
       "      <th>rating</th>\n",
       "      <th>category</th>\n",
       "    </tr>\n",
       "  </thead>\n",
       "  <tbody>\n",
       "    <tr>\n",
       "      <th>0</th>\n",
       "      <td>2020 Complete Python Bootcamp: From Zero to He...</td>\n",
       "      <td>1100093</td>\n",
       "      <td>4.6</td>\n",
       "      <td>318066</td>\n",
       "      <td>Tech</td>\n",
       "    </tr>\n",
       "    <tr>\n",
       "      <th>1</th>\n",
       "      <td>The Web Developer Bootcamp</td>\n",
       "      <td>596726</td>\n",
       "      <td>4.6</td>\n",
       "      <td>182997</td>\n",
       "      <td>Tech</td>\n",
       "    </tr>\n",
       "    <tr>\n",
       "      <th>2</th>\n",
       "      <td>Machine Learning A-Z™: Hands-On Python &amp; R In ...</td>\n",
       "      <td>692812</td>\n",
       "      <td>4.5</td>\n",
       "      <td>132228</td>\n",
       "      <td>Tech</td>\n",
       "    </tr>\n",
       "    <tr>\n",
       "      <th>3</th>\n",
       "      <td>Angular - The Complete Guide (2020 Edition)</td>\n",
       "      <td>422557</td>\n",
       "      <td>4.6</td>\n",
       "      <td>129984</td>\n",
       "      <td>Tech</td>\n",
       "    </tr>\n",
       "    <tr>\n",
       "      <th>4</th>\n",
       "      <td>Java Programming Masterclass for Software Deve...</td>\n",
       "      <td>502572</td>\n",
       "      <td>4.6</td>\n",
       "      <td>123798</td>\n",
       "      <td>Tech</td>\n",
       "    </tr>\n",
       "    <tr>\n",
       "      <th>...</th>\n",
       "      <td>...</td>\n",
       "      <td>...</td>\n",
       "      <td>...</td>\n",
       "      <td>...</td>\n",
       "      <td>...</td>\n",
       "    </tr>\n",
       "    <tr>\n",
       "      <th>44566</th>\n",
       "      <td>Business Basics for Professional Entrepreneurs</td>\n",
       "      <td>18</td>\n",
       "      <td>5.0</td>\n",
       "      <td>3</td>\n",
       "      <td>Business</td>\n",
       "    </tr>\n",
       "    <tr>\n",
       "      <th>44567</th>\n",
       "      <td>How to Trend on Skillshare without Followers</td>\n",
       "      <td>373</td>\n",
       "      <td>5.0</td>\n",
       "      <td>3</td>\n",
       "      <td>Business</td>\n",
       "    </tr>\n",
       "    <tr>\n",
       "      <th>44568</th>\n",
       "      <td>Betting Basics - How to become profitable on s...</td>\n",
       "      <td>6</td>\n",
       "      <td>5.0</td>\n",
       "      <td>3</td>\n",
       "      <td>Business</td>\n",
       "    </tr>\n",
       "    <tr>\n",
       "      <th>44569</th>\n",
       "      <td>Level 1 2014 CFA® Program – Corporate Finance</td>\n",
       "      <td>223</td>\n",
       "      <td>4.3</td>\n",
       "      <td>3</td>\n",
       "      <td>Business</td>\n",
       "    </tr>\n",
       "    <tr>\n",
       "      <th>44570</th>\n",
       "      <td>Storytelling In Business</td>\n",
       "      <td>16</td>\n",
       "      <td>3.3</td>\n",
       "      <td>3</td>\n",
       "      <td>Business</td>\n",
       "    </tr>\n",
       "  </tbody>\n",
       "</table>\n",
       "<p>44554 rows × 5 columns</p>\n",
       "</div>"
      ],
      "text/plain": [
       "                                                   title  enrollment  stars  \\\n",
       "0      2020 Complete Python Bootcamp: From Zero to He...     1100093    4.6   \n",
       "1                             The Web Developer Bootcamp      596726    4.6   \n",
       "2      Machine Learning A-Z™: Hands-On Python & R In ...      692812    4.5   \n",
       "3            Angular - The Complete Guide (2020 Edition)      422557    4.6   \n",
       "4      Java Programming Masterclass for Software Deve...      502572    4.6   \n",
       "...                                                  ...         ...    ...   \n",
       "44566     Business Basics for Professional Entrepreneurs          18    5.0   \n",
       "44567       How to Trend on Skillshare without Followers         373    5.0   \n",
       "44568  Betting Basics - How to become profitable on s...           6    5.0   \n",
       "44569      Level 1 2014 CFA® Program – Corporate Finance         223    4.3   \n",
       "44570                           Storytelling In Business          16    3.3   \n",
       "\n",
       "       rating  category  \n",
       "0      318066      Tech  \n",
       "1      182997      Tech  \n",
       "2      132228      Tech  \n",
       "3      129984      Tech  \n",
       "4      123798      Tech  \n",
       "...       ...       ...  \n",
       "44566       3  Business  \n",
       "44567       3  Business  \n",
       "44568       3  Business  \n",
       "44569       3  Business  \n",
       "44570       3  Business  \n",
       "\n",
       "[44554 rows x 5 columns]"
      ]
     },
     "execution_count": 21,
     "metadata": {},
     "output_type": "execute_result"
    }
   ],
   "source": [
    "udemyData"
   ]
  },
  {
   "cell_type": "markdown",
   "id": "583707c4",
   "metadata": {},
   "source": [
    "# A) Top 10 courses by enrollment"
   ]
  },
  {
   "cell_type": "code",
   "execution_count": 22,
   "id": "10209279",
   "metadata": {},
   "outputs": [
    {
     "data": {
      "text/plain": [
       "0        0.289126\n",
       "1        0.306668\n",
       "2        0.190857\n",
       "3        0.307613\n",
       "4        0.246329\n",
       "           ...   \n",
       "44566    0.166667\n",
       "44567    0.008043\n",
       "44568    0.500000\n",
       "44569    0.013453\n",
       "44570    0.187500\n",
       "Name: ratio_exptoenroll, Length: 44554, dtype: float64"
      ]
     },
     "execution_count": 22,
     "metadata": {},
     "output_type": "execute_result"
    }
   ],
   "source": [
    "udemyData['ratio_exptoenroll'] = udemyData['rating'] / udemyData['enrollment']\n",
    "udemyData['ratio_exptoenroll']"
   ]
  },
  {
   "cell_type": "code",
   "execution_count": 23,
   "id": "1b224810",
   "metadata": {},
   "outputs": [],
   "source": [
    "n_enrollment = udemyData.nlargest(10, ['enrollment'])\n",
    "n_enrollment = n_enrollment.reset_index()\n",
    "n_enrollment.drop(['index'], axis = 1, inplace = True)"
   ]
  },
  {
   "cell_type": "code",
   "execution_count": 24,
   "id": "bfb719b4",
   "metadata": {},
   "outputs": [
    {
     "data": {
      "text/plain": [
       "[<matplotlib.lines.Line2D at 0x256198859a0>]"
      ]
     },
     "execution_count": 24,
     "metadata": {},
     "output_type": "execute_result"
    },
    {
     "data": {
      "image/png": "[encoded data removed]",
      "text/plain": [
       "<Figure size 432x288 with 1 Axes>"
      ]
     },
     "metadata": {
      "needs_background": "light"
     },
     "output_type": "display_data"
    }
   ],
   "source": [
    "plt.plot(n_enrollment.index, n_enrollment['enrollment'])"
   ]
  },
  {
   "cell_type": "markdown",
   "id": "beae7090",
   "metadata": {},
   "source": [
    "From the above line graph it is very clear that how much of a difference there is between first two course enrollment. And then enrollment for all other courses are very narrowly going down."
   ]
  },
  {
   "cell_type": "markdown",
   "id": "b3679d95",
   "metadata": {},
   "source": [
    "## A.1) Check the category of courses"
   ]
  },
  {
   "cell_type": "code",
   "execution_count": 25,
   "id": "49fd6a79",
   "metadata": {},
   "outputs": [
    {
     "data": {
      "text/plain": [
       "Tech         7\n",
       "Design       2\n",
       "Marketing    1\n",
       "Name: category, dtype: int64"
      ]
     },
     "execution_count": 25,
     "metadata": {},
     "output_type": "execute_result"
    }
   ],
   "source": [
    "n_enrollment['category'].value_counts()"
   ]
  },
  {
   "cell_type": "markdown",
   "id": "603fe3f6",
   "metadata": {},
   "source": [
    "Out of top 10 courses 7 courses are dominated by tech related subjects. Followed by Design and marketing."
   ]
  },
  {
   "cell_type": "code",
   "execution_count": 26,
   "id": "45ad261b",
   "metadata": {},
   "outputs": [
    {
     "data": {
      "image/png": "[encoded data removed]",
      "text/plain": [
       "<Figure size 432x288 with 1 Axes>"
      ]
     },
     "metadata": {
      "needs_background": "light"
     },
     "output_type": "display_data"
    }
   ],
   "source": [
    "n_enrollment['category'].value_counts().plot(kind='bar');"
   ]
  },
  {
   "cell_type": "markdown",
   "id": "e466bfc1",
   "metadata": {},
   "source": [
    "## A.2) Find average start for each category in top courses"
   ]
  },
  {
   "cell_type": "code",
   "execution_count": 27,
   "id": "ba1583b2",
   "metadata": {},
   "outputs": [
    {
     "data": {
      "text/plain": [
       "4.52"
      ]
     },
     "execution_count": 27,
     "metadata": {},
     "output_type": "execute_result"
    }
   ],
   "source": [
    "n_enrollment['stars'].mean()"
   ]
  },
  {
   "cell_type": "markdown",
   "id": "85d31bef",
   "metadata": {},
   "source": [
    "This is the average mean for all the top courses which is pretty decent out 5. Let's check it for each category."
   ]
  },
  {
   "cell_type": "code",
   "execution_count": 28,
   "id": "43fb0f30",
   "metadata": {},
   "outputs": [
    {
     "data": {
      "text/plain": [
       "category\n",
       "Design       4.550000\n",
       "Marketing    4.400000\n",
       "Tech         4.528571\n",
       "Name: stars, dtype: float64"
      ]
     },
     "execution_count": 28,
     "metadata": {},
     "output_type": "execute_result"
    }
   ],
   "source": [
    "n_enrollment.groupby(['category'])['stars'].mean()"
   ]
  },
  {
   "cell_type": "code",
   "execution_count": 29,
   "id": "15be246d",
   "metadata": {},
   "outputs": [
    {
     "data": {
      "text/plain": [
       "<matplotlib.lines.Line2D at 0x256199899d0>"
      ]
     },
     "execution_count": 29,
     "metadata": {},
     "output_type": "execute_result"
    },
    {
     "data": {
      "image/png": "[encoded data removed]",
      "text/plain": [
       "<Figure size 432x288 with 1 Axes>"
      ]
     },
     "metadata": {
      "needs_background": "light"
     },
     "output_type": "display_data"
    }
   ],
   "source": [
    "n_enrollment.groupby(['category'])['stars'].mean().plot(kind='bar')\n",
    "plt.axhline(y = n_enrollment['stars'].mean(), color =\"red\", linestyle =\"--\")"
   ]
  },
  {
   "cell_type": "markdown",
   "id": "2966c3c5",
   "metadata": {},
   "source": [
    "As we can see our threshold is set at 4.5 and Design and Tech courses are of little more better in stars than Marketing. Also, if we consider the weight of number of data points for each category then it becomes more impressive for tech courses."
   ]
  },
  {
   "cell_type": "markdown",
   "id": "c1dec4d6",
   "metadata": {},
   "source": [
    "# B) Rating to enrollment ratio"
   ]
  },
  {
   "cell_type": "code",
   "execution_count": 30,
   "id": "b5ce48b2",
   "metadata": {},
   "outputs": [
    {
     "data": {
      "text/plain": [
       "0        0.289126\n",
       "1        0.306668\n",
       "2        0.190857\n",
       "3        0.307613\n",
       "4        0.246329\n",
       "           ...   \n",
       "44566    0.166667\n",
       "44567    0.008043\n",
       "44568    0.500000\n",
       "44569    0.013453\n",
       "44570    0.187500\n",
       "Name: ratio_exptoenroll, Length: 44554, dtype: float64"
      ]
     },
     "execution_count": 30,
     "metadata": {},
     "output_type": "execute_result"
    }
   ],
   "source": [
    "udemyData['ratio_exptoenroll'] = udemyData['rating'] / udemyData['enrollment']\n",
    "udemyData['ratio_exptoenroll']"
   ]
  },
  {
   "cell_type": "markdown",
   "id": "2b191c23",
   "metadata": {},
   "source": [
    "Let's see ratio of top 10 course."
   ]
  },
  {
   "cell_type": "code",
   "execution_count": 31,
   "id": "5de752f8",
   "metadata": {},
   "outputs": [
    {
     "data": {
      "text/html": [
       "<div>\n",
       "<style scoped>\n",
       "    .dataframe tbody tr th:only-of-type {\n",
       "        vertical-align: middle;\n",
       "    }\n",
       "\n",
       "    .dataframe tbody tr th {\n",
       "        vertical-align: top;\n",
       "    }\n",
       "\n",
       "    .dataframe thead th {\n",
       "        text-align: right;\n",
       "    }\n",
       "</style>\n",
       "<table border=\"1\" class=\"dataframe\">\n",
       "  <thead>\n",
       "    <tr style=\"text-align: right;\">\n",
       "      <th></th>\n",
       "      <th>title</th>\n",
       "      <th>enrollment</th>\n",
       "      <th>stars</th>\n",
       "      <th>rating</th>\n",
       "      <th>category</th>\n",
       "      <th>ratio_exptoenroll</th>\n",
       "    </tr>\n",
       "  </thead>\n",
       "  <tbody>\n",
       "    <tr>\n",
       "      <th>0</th>\n",
       "      <td>2020 Complete Python Bootcamp: From Zero to He...</td>\n",
       "      <td>1100093</td>\n",
       "      <td>4.6</td>\n",
       "      <td>318066</td>\n",
       "      <td>Tech</td>\n",
       "      <td>0.289126</td>\n",
       "    </tr>\n",
       "    <tr>\n",
       "      <th>1</th>\n",
       "      <td>Machine Learning A-Z™: Hands-On Python &amp; R In ...</td>\n",
       "      <td>692812</td>\n",
       "      <td>4.5</td>\n",
       "      <td>132228</td>\n",
       "      <td>Tech</td>\n",
       "      <td>0.190857</td>\n",
       "    </tr>\n",
       "    <tr>\n",
       "      <th>2</th>\n",
       "      <td>Automate the Boring Stuff with Python Programming</td>\n",
       "      <td>692617</td>\n",
       "      <td>4.6</td>\n",
       "      <td>70508</td>\n",
       "      <td>Tech</td>\n",
       "      <td>0.101799</td>\n",
       "    </tr>\n",
       "    <tr>\n",
       "      <th>3</th>\n",
       "      <td>The Web Developer Bootcamp</td>\n",
       "      <td>596726</td>\n",
       "      <td>4.6</td>\n",
       "      <td>182997</td>\n",
       "      <td>Tech</td>\n",
       "      <td>0.306668</td>\n",
       "    </tr>\n",
       "    <tr>\n",
       "      <th>4</th>\n",
       "      <td>Java Programming Masterclass for Software Deve...</td>\n",
       "      <td>502572</td>\n",
       "      <td>4.6</td>\n",
       "      <td>123798</td>\n",
       "      <td>Tech</td>\n",
       "      <td>0.246329</td>\n",
       "    </tr>\n",
       "    <tr>\n",
       "      <th>5</th>\n",
       "      <td>The Complete Digital Marketing Course - 12 Cou...</td>\n",
       "      <td>494107</td>\n",
       "      <td>4.4</td>\n",
       "      <td>117014</td>\n",
       "      <td>Marketing</td>\n",
       "      <td>0.236819</td>\n",
       "    </tr>\n",
       "    <tr>\n",
       "      <th>6</th>\n",
       "      <td>The Complete Python 3 Course: Beginner to Adva...</td>\n",
       "      <td>477630</td>\n",
       "      <td>4.2</td>\n",
       "      <td>19145</td>\n",
       "      <td>Tech</td>\n",
       "      <td>0.040083</td>\n",
       "    </tr>\n",
       "    <tr>\n",
       "      <th>7</th>\n",
       "      <td>Adobe Photoshop CC: Your Complete Beginner to ...</td>\n",
       "      <td>470991</td>\n",
       "      <td>4.6</td>\n",
       "      <td>16005</td>\n",
       "      <td>Design</td>\n",
       "      <td>0.033982</td>\n",
       "    </tr>\n",
       "    <tr>\n",
       "      <th>8</th>\n",
       "      <td>Angular - The Complete Guide (2020 Edition)</td>\n",
       "      <td>422557</td>\n",
       "      <td>4.6</td>\n",
       "      <td>129984</td>\n",
       "      <td>Tech</td>\n",
       "      <td>0.307613</td>\n",
       "    </tr>\n",
       "    <tr>\n",
       "      <th>9</th>\n",
       "      <td>The Ultimate Drawing Course - Beginner to Adva...</td>\n",
       "      <td>403865</td>\n",
       "      <td>4.5</td>\n",
       "      <td>98984</td>\n",
       "      <td>Design</td>\n",
       "      <td>0.245092</td>\n",
       "    </tr>\n",
       "  </tbody>\n",
       "</table>\n",
       "</div>"
      ],
      "text/plain": [
       "                                               title  enrollment  stars  \\\n",
       "0  2020 Complete Python Bootcamp: From Zero to He...     1100093    4.6   \n",
       "1  Machine Learning A-Z™: Hands-On Python & R In ...      692812    4.5   \n",
       "2  Automate the Boring Stuff with Python Programming      692617    4.6   \n",
       "3                         The Web Developer Bootcamp      596726    4.6   \n",
       "4  Java Programming Masterclass for Software Deve...      502572    4.6   \n",
       "5  The Complete Digital Marketing Course - 12 Cou...      494107    4.4   \n",
       "6  The Complete Python 3 Course: Beginner to Adva...      477630    4.2   \n",
       "7  Adobe Photoshop CC: Your Complete Beginner to ...      470991    4.6   \n",
       "8        Angular - The Complete Guide (2020 Edition)      422557    4.6   \n",
       "9  The Ultimate Drawing Course - Beginner to Adva...      403865    4.5   \n",
       "\n",
       "   rating   category  ratio_exptoenroll  \n",
       "0  318066       Tech           0.289126  \n",
       "1  132228       Tech           0.190857  \n",
       "2   70508       Tech           0.101799  \n",
       "3  182997       Tech           0.306668  \n",
       "4  123798       Tech           0.246329  \n",
       "5  117014  Marketing           0.236819  \n",
       "6   19145       Tech           0.040083  \n",
       "7   16005     Design           0.033982  \n",
       "8  129984       Tech           0.307613  \n",
       "9   98984     Design           0.245092  "
      ]
     },
     "execution_count": 31,
     "metadata": {},
     "output_type": "execute_result"
    }
   ],
   "source": [
    "n_enrollment[:10]"
   ]
  },
  {
   "cell_type": "code",
   "execution_count": 32,
   "id": "c4894694",
   "metadata": {},
   "outputs": [
    {
     "data": {
      "image/png": "[encoded data removed]",
      "text/plain": [
       "<Figure size 1152x720 with 1 Axes>"
      ]
     },
     "metadata": {
      "needs_background": "light"
     },
     "output_type": "display_data"
    }
   ],
   "source": [
    "fig, ax = plt.subplots(figsize=(16,10))\n",
    "sns.barplot(y='title', x='ratio_exptoenroll', data=n_enrollment.sort_values(by='ratio_exptoenroll', ascending=False), ax=ax)\n",
    "plt.xlabel('Rating to Enrollment %', fontsize=16)\n",
    "plt.ylabel('Title', fontsize=16)\n",
    "plt.title('Enrollment to rating percentage for the top 10 Udemy courses', fontsize=20);"
   ]
  },
  {
   "cell_type": "markdown",
   "id": "62282c9b",
   "metadata": {},
   "source": [
    "# C) Cluster the courses "
   ]
  },
  {
   "cell_type": "code",
   "execution_count": 33,
   "id": "fe679f31",
   "metadata": {},
   "outputs": [
    {
     "data": {
      "text/html": [
       "<div>\n",
       "<style scoped>\n",
       "    .dataframe tbody tr th:only-of-type {\n",
       "        vertical-align: middle;\n",
       "    }\n",
       "\n",
       "    .dataframe tbody tr th {\n",
       "        vertical-align: top;\n",
       "    }\n",
       "\n",
       "    .dataframe thead th {\n",
       "        text-align: right;\n",
       "    }\n",
       "</style>\n",
       "<table border=\"1\" class=\"dataframe\">\n",
       "  <thead>\n",
       "    <tr style=\"text-align: right;\">\n",
       "      <th></th>\n",
       "      <th>enrollment</th>\n",
       "      <th>stars</th>\n",
       "      <th>rating</th>\n",
       "      <th>ratio_exptoenroll</th>\n",
       "    </tr>\n",
       "  </thead>\n",
       "  <tbody>\n",
       "    <tr>\n",
       "      <th>enrollment</th>\n",
       "      <td>1.000000</td>\n",
       "      <td>0.077894</td>\n",
       "      <td>0.802861</td>\n",
       "      <td>-0.087587</td>\n",
       "    </tr>\n",
       "    <tr>\n",
       "      <th>stars</th>\n",
       "      <td>0.077894</td>\n",
       "      <td>1.000000</td>\n",
       "      <td>0.053806</td>\n",
       "      <td>0.220908</td>\n",
       "    </tr>\n",
       "    <tr>\n",
       "      <th>rating</th>\n",
       "      <td>0.802861</td>\n",
       "      <td>0.053806</td>\n",
       "      <td>1.000000</td>\n",
       "      <td>0.053563</td>\n",
       "    </tr>\n",
       "    <tr>\n",
       "      <th>ratio_exptoenroll</th>\n",
       "      <td>-0.087587</td>\n",
       "      <td>0.220908</td>\n",
       "      <td>0.053563</td>\n",
       "      <td>1.000000</td>\n",
       "    </tr>\n",
       "  </tbody>\n",
       "</table>\n",
       "</div>"
      ],
      "text/plain": [
       "                   enrollment     stars    rating  ratio_exptoenroll\n",
       "enrollment           1.000000  0.077894  0.802861          -0.087587\n",
       "stars                0.077894  1.000000  0.053806           0.220908\n",
       "rating               0.802861  0.053806  1.000000           0.053563\n",
       "ratio_exptoenroll   -0.087587  0.220908  0.053563           1.000000"
      ]
     },
     "execution_count": 33,
     "metadata": {},
     "output_type": "execute_result"
    }
   ],
   "source": [
    "# relations between features\n",
    "udemyData.corr()"
   ]
  },
  {
   "cell_type": "markdown",
   "id": "932ee106",
   "metadata": {},
   "source": [
    "Enrollment and rating are highly correlated with each other."
   ]
  },
  {
   "cell_type": "markdown",
   "id": "7c0244eb",
   "metadata": {},
   "source": [
    "# TF-IDF"
   ]
  },
  {
   "cell_type": "code",
   "execution_count": 34,
   "id": "f052ac51",
   "metadata": {},
   "outputs": [],
   "source": [
    "sentences_list = []\n",
    "for sentence in udemyData['title']:\n",
    "    sentences_list.append(sentence) "
   ]
  },
  {
   "cell_type": "code",
   "execution_count": 35,
   "id": "02762275",
   "metadata": {},
   "outputs": [],
   "source": [
    "# removes a list of words (ie. stopwords) from a tokenized list.\n",
    "def removeWords(listOfTokens, listOfWords):\n",
    "    return [token for token in listOfTokens if token not in listOfWords]\n",
    "\n",
    "# applies stemming to a list of tokenized words\n",
    "def applyStemming(listOfTokens, stemmer):\n",
    "    return [stemmer.stem(token) for token in listOfTokens]\n",
    "\n",
    "# removes any words composed of less than 2 or more than 21 letters\n",
    "def twoLetters(listOfTokens):\n",
    "    twoLetterWord = []\n",
    "    for token in listOfTokens:\n",
    "        if len(token) <= 2 or len(token) >= 21:\n",
    "            twoLetterWord.append(token)\n",
    "    return twoLetterWord"
   ]
  },
  {
   "cell_type": "code",
   "execution_count": 36,
   "id": "41dbab4b",
   "metadata": {},
   "outputs": [],
   "source": [
    "def processCorpus(sentences_list, language):   \n",
    "    stopwords = nltk.corpus.stopwords.words(language)\n",
    "    param_stemmer = SnowballStemmer(language)\n",
    "    \n",
    "    for document in sentences_list:\n",
    "        index = sentences_list.index(document)\n",
    "        sentences_list[index] = sentences_list[index].replace(u'\\ufffd', '8')   # Replaces the ASCII '�' symbol with '8'\n",
    "        sentences_list[index] = sentences_list[index].replace(',', '')          # Removes commas\n",
    "        sentences_list[index] = sentences_list[index].rstrip('\\n')              # Removes line breaks\n",
    "        sentences_list[index] = sentences_list[index].casefold()                # Makes all letters lowercase\n",
    "        \n",
    "        \n",
    "        sentences_list[index] = re.sub('\\W_',' ', sentences_list[index])        # removes specials characters and leaves only words\n",
    "        sentences_list[index] = re.sub(\"\\S*\\d\\S*\",\" \", sentences_list[index])   # removes numbers and words concatenated with numbers IE h4ck3r. Removes road names such as BR-381.\n",
    "        sentences_list[index] = re.sub(\"\\S*@\\S*\\s?\",\" \", sentences_list[index]) # removes emails and mentions (words with @)\n",
    "        sentences_list[index] = re.sub(r'http\\S+', '', sentences_list[index])   # removes URLs with http\n",
    "        sentences_list[index] = re.sub(r'www\\S+', '', sentences_list[index]) \n",
    "        \n",
    "        listOfTokens = word_tokenize(sentences_list[index])\n",
    "        twoLetterWord = twoLetters(listOfTokens)\n",
    "        \n",
    "        listOfTokens = removeWords(listOfTokens, stopwords)\n",
    "        listOfTokens = removeWords(listOfTokens, twoLetterWord)\n",
    "        \n",
    "        listOfTokens = applyStemming(listOfTokens, param_stemmer)\n",
    "        \n",
    "        sentences_list[index]   = \" \".join(listOfTokens)\n",
    "        sentences_list[index] = unidecode(sentences_list[index])\n",
    "        \n",
    "        return sentences_list"
   ]
  },
  {
   "cell_type": "code",
   "execution_count": 37,
   "id": "87a89e13",
   "metadata": {},
   "outputs": [],
   "source": [
    "language = 'english'\n",
    "corpus = processCorpus(sentences_list, language)"
   ]
  },
  {
   "cell_type": "markdown",
   "id": "02126e18",
   "metadata": {},
   "source": [
    "# tf-idf"
   ]
  },
  {
   "cell_type": "code",
   "execution_count": 38,
   "id": "9fa6645d",
   "metadata": {
    "scrolled": false
   },
   "outputs": [],
   "source": [
    "vectorizer = TfidfVectorizer()\n",
    "X = vectorizer.fit_transform(corpus)\n",
    "tf_idf = pd.DataFrame(data = X.toarray(), columns=vectorizer.get_feature_names())"
   ]
  },
  {
   "cell_type": "markdown",
   "id": "0e49eae3",
   "metadata": {},
   "source": [
    "# Kmeans"
   ]
  },
  {
   "cell_type": "code",
   "execution_count": 39,
   "id": "faf6f45c",
   "metadata": {},
   "outputs": [],
   "source": [
    "def run_KMeans(max_k, data):\n",
    "    max_k += 1\n",
    "    kmeans_results = dict()\n",
    "    for k in range(14 , max_k):\n",
    "        kmeans = cluster.KMeans(n_clusters = k\n",
    "                               , init = 'k-means++'\n",
    "                               , n_init = 10\n",
    "                               , tol = 0.0001\n",
    "                               , random_state = 1\n",
    "                               , algorithm = 'full')\n",
    "\n",
    "        kmeans_results.update( {k : kmeans.fit(data)} )\n",
    "        \n",
    "    return kmeans_results"
   ]
  },
  {
   "cell_type": "code",
   "execution_count": 40,
   "id": "386d26ae",
   "metadata": {},
   "outputs": [],
   "source": [
    "k = 14\n",
    "kmeans_results = run_KMeans(k, tf_idf)"
   ]
  },
  {
   "cell_type": "code",
   "execution_count": 41,
   "id": "5fe0eebf",
   "metadata": {},
   "outputs": [],
   "source": [
    "def printAvg(avg_dict):\n",
    "    for avg in sorted(avg_dict.keys(), reverse=True):\n",
    "        print(\"Avg: {}\\tK:{}\".format(avg.round(4), avg_dict[avg]))\n",
    "        \n",
    "def plotSilhouette(df, n_clusters, kmeans_labels, silhouette_avg):\n",
    "    fig, ax1 = plt.subplots(1)\n",
    "    fig.set_size_inches(8, 6)\n",
    "    ax1.set_xlim([-0.2, 1])\n",
    "    ax1.set_ylim([0, len(df) + (n_clusters + 1) * 10])\n",
    "    \n",
    "    ax1.axvline(x=silhouette_avg, color=\"red\", linestyle=\"--\") # The vertical line for average silhouette score of all the values\n",
    "    ax1.set_yticks([])  # Clear the yaxis labels / ticks\n",
    "    ax1.set_xticks([-0.2, 0, 0.2, 0.4, 0.6, 0.8, 1])\n",
    "    plt.title((\"Silhouette analysis for K = %d\" % n_clusters), fontsize=10, fontweight='bold')\n",
    "    \n",
    "    y_lower = 10\n",
    "    sample_silhouette_values = silhouette_samples(df, kmeans_labels) # Compute the silhouette scores for each sample\n",
    "    for i in range(n_clusters):\n",
    "        ith_cluster_silhouette_values = sample_silhouette_values[kmeans_labels == i]\n",
    "        ith_cluster_silhouette_values.sort()\n",
    "\n",
    "        size_cluster_i = ith_cluster_silhouette_values.shape[0]\n",
    "        y_upper = y_lower + size_cluster_i\n",
    "\n",
    "        color = cm.nipy_spectral(float(i) / n_clusters)\n",
    "        ax1.fill_betweenx(np.arange(y_lower, y_upper), 0, ith_cluster_silhouette_values, facecolor=color, edgecolor=color, alpha=0.7)\n",
    "\n",
    "        ax1.text(-0.05, y_lower + 0.5 * size_cluster_i, str(i)) # Label the silhouette plots with their cluster numbers at the middle\n",
    "        y_lower = y_upper + 10  # Compute the new y_lower for next plot. 10 for the 0 samples\n",
    "    plt.show()\n",
    "    \n",
    "        \n",
    "def silhouette(kmeans_dict, df, plot=False):\n",
    "    df = df.to_numpy()\n",
    "    avg_dict = dict()\n",
    "    for n_clusters, kmeans in kmeans_dict.items():      \n",
    "        kmeans_labels = kmeans.predict(df)\n",
    "        silhouette_avg = silhouette_score(df, kmeans_labels) # Average Score for all Samples\n",
    "        avg_dict.update( {silhouette_avg : n_clusters} )\n",
    "    \n",
    "        if(plot): plotSilhouette(df, n_clusters, kmeans_labels, silhouette_avg)"
   ]
  },
  {
   "cell_type": "code",
   "execution_count": 42,
   "id": "2d480191",
   "metadata": {},
   "outputs": [
    {
     "data": {
      "image/png": "[encoded data removed]",
      "text/plain": [
       "<Figure size 576x432 with 1 Axes>"
      ]
     },
     "metadata": {
      "needs_background": "light"
     },
     "output_type": "display_data"
    }
   ],
   "source": [
    "# Plotting Silhouette Analysis\n",
    "silhouette(kmeans_results, tf_idf, plot=True)"
   ]
  },
  {
   "cell_type": "code",
   "execution_count": 43,
   "id": "2b0821aa",
   "metadata": {},
   "outputs": [],
   "source": [
    "inertias = []\n",
    "for index in kmeans_results:\n",
    "    inertias.append(kmeans_results[index].inertia_)"
   ]
  },
  {
   "cell_type": "code",
   "execution_count": 44,
   "id": "5efa7bb1",
   "metadata": {},
   "outputs": [
    {
     "data": {
      "image/png": "[encoded data removed]",
      "text/plain": [
       "<Figure size 432x288 with 1 Axes>"
      ]
     },
     "metadata": {
      "needs_background": "light"
     },
     "output_type": "display_data"
    }
   ],
   "source": [
    "K = range(13, 14)\n",
    "plt.plot(K, inertias, 'bx-')\n",
    "plt.xlabel('Values of K')\n",
    "plt.ylabel('Inertia')\n",
    "plt.title('The Elbow Method using Inertia')\n",
    "plt.show()"
   ]
  },
  {
   "cell_type": "code",
   "execution_count": 49,
   "id": "240754e0",
   "metadata": {},
   "outputs": [],
   "source": [
    "# do not touch this\n",
    "best_result = 14\n",
    "kmeans = kmeans_results.get(best_result)"
   ]
  },
  {
   "cell_type": "code",
   "execution_count": 50,
   "id": "5a686f98",
   "metadata": {},
   "outputs": [],
   "source": [
    "best_result = 14\n",
    "higher_kmeans = kmeans_results.get(best_result)"
   ]
  },
  {
   "cell_type": "code",
   "execution_count": 51,
   "id": "3affa519",
   "metadata": {},
   "outputs": [],
   "source": [
    "final_df_array = tf_idf.to_numpy()"
   ]
  },
  {
   "cell_type": "code",
   "execution_count": 52,
   "id": "895638cf",
   "metadata": {},
   "outputs": [],
   "source": [
    "prediction = kmeans.predict(tf_idf)"
   ]
  },
  {
   "cell_type": "code",
   "execution_count": 53,
   "id": "7ccf520a",
   "metadata": {},
   "outputs": [
    {
     "data": {
      "text/html": [
       "<div>\n",
       "<style scoped>\n",
       "    .dataframe tbody tr th:only-of-type {\n",
       "        vertical-align: middle;\n",
       "    }\n",
       "\n",
       "    .dataframe tbody tr th {\n",
       "        vertical-align: top;\n",
       "    }\n",
       "\n",
       "    .dataframe thead th {\n",
       "        text-align: right;\n",
       "    }\n",
       "</style>\n",
       "<table border=\"1\" class=\"dataframe\">\n",
       "  <thead>\n",
       "    <tr style=\"text-align: right;\">\n",
       "      <th></th>\n",
       "      <th>title</th>\n",
       "      <th>enrollment</th>\n",
       "      <th>stars</th>\n",
       "      <th>rating</th>\n",
       "      <th>category</th>\n",
       "      <th>ratio_exptoenroll</th>\n",
       "      <th>label</th>\n",
       "    </tr>\n",
       "  </thead>\n",
       "  <tbody>\n",
       "    <tr>\n",
       "      <th>44566</th>\n",
       "      <td>Business Basics for Professional Entrepreneurs</td>\n",
       "      <td>18</td>\n",
       "      <td>5.0</td>\n",
       "      <td>3</td>\n",
       "      <td>Business</td>\n",
       "      <td>0.166667</td>\n",
       "      <td>5</td>\n",
       "    </tr>\n",
       "    <tr>\n",
       "      <th>44567</th>\n",
       "      <td>How to Trend on Skillshare without Followers</td>\n",
       "      <td>373</td>\n",
       "      <td>5.0</td>\n",
       "      <td>3</td>\n",
       "      <td>Business</td>\n",
       "      <td>0.008043</td>\n",
       "      <td>6</td>\n",
       "    </tr>\n",
       "    <tr>\n",
       "      <th>44568</th>\n",
       "      <td>Betting Basics - How to become profitable on s...</td>\n",
       "      <td>6</td>\n",
       "      <td>5.0</td>\n",
       "      <td>3</td>\n",
       "      <td>Business</td>\n",
       "      <td>0.500000</td>\n",
       "      <td>6</td>\n",
       "    </tr>\n",
       "    <tr>\n",
       "      <th>44569</th>\n",
       "      <td>Level 1 2014 CFA® Program – Corporate Finance</td>\n",
       "      <td>223</td>\n",
       "      <td>4.3</td>\n",
       "      <td>3</td>\n",
       "      <td>Business</td>\n",
       "      <td>0.013453</td>\n",
       "      <td>5</td>\n",
       "    </tr>\n",
       "    <tr>\n",
       "      <th>44570</th>\n",
       "      <td>Storytelling In Business</td>\n",
       "      <td>16</td>\n",
       "      <td>3.3</td>\n",
       "      <td>3</td>\n",
       "      <td>Business</td>\n",
       "      <td>0.187500</td>\n",
       "      <td>5</td>\n",
       "    </tr>\n",
       "  </tbody>\n",
       "</table>\n",
       "</div>"
      ],
      "text/plain": [
       "                                                   title  enrollment  stars  \\\n",
       "44566     Business Basics for Professional Entrepreneurs          18    5.0   \n",
       "44567       How to Trend on Skillshare without Followers         373    5.0   \n",
       "44568  Betting Basics - How to become profitable on s...           6    5.0   \n",
       "44569      Level 1 2014 CFA® Program – Corporate Finance         223    4.3   \n",
       "44570                           Storytelling In Business          16    3.3   \n",
       "\n",
       "       rating  category  ratio_exptoenroll  label  \n",
       "44566       3  Business           0.166667      5  \n",
       "44567       3  Business           0.008043      6  \n",
       "44568       3  Business           0.500000      6  \n",
       "44569       3  Business           0.013453      5  \n",
       "44570       3  Business           0.187500      5  "
      ]
     },
     "execution_count": 53,
     "metadata": {},
     "output_type": "execute_result"
    }
   ],
   "source": [
    "labels = kmeans.labels_ \n",
    "udemyData['label'] = labels\n",
    "udemyData.tail(5)"
   ]
  },
  {
   "cell_type": "code",
   "execution_count": 54,
   "id": "c29c3347",
   "metadata": {},
   "outputs": [
    {
     "data": {
      "text/plain": [
       "5     22439\n",
       "6      4306\n",
       "4      3067\n",
       "12     2841\n",
       "7      2421\n",
       "1      1884\n",
       "0      1680\n",
       "2      1167\n",
       "11     1160\n",
       "13     1035\n",
       "3       893\n",
       "8       727\n",
       "9       502\n",
       "10      432\n",
       "Name: label, dtype: int64"
      ]
     },
     "execution_count": 54,
     "metadata": {},
     "output_type": "execute_result"
    }
   ],
   "source": [
    "udemyData['label'].value_counts()"
   ]
  },
  {
   "cell_type": "markdown",
   "id": "71f87f73",
   "metadata": {},
   "source": [
    "# Classification"
   ]
  },
  {
   "cell_type": "code",
   "execution_count": 55,
   "id": "82a73afd",
   "metadata": {},
   "outputs": [
    {
     "data": {
      "text/plain": [
       "Business     9968\n",
       "Tech         9964\n",
       "Design       9960\n",
       "Marketing    8781\n",
       "Finance      5881\n",
       "Name: category, dtype: int64"
      ]
     },
     "execution_count": 55,
     "metadata": {},
     "output_type": "execute_result"
    }
   ],
   "source": [
    "udemyData['category'].value_counts()"
   ]
  },
  {
   "cell_type": "code",
   "execution_count": 56,
   "id": "1730bbe7",
   "metadata": {},
   "outputs": [
    {
     "data": {
      "text/html": [
       "<div>\n",
       "<style scoped>\n",
       "    .dataframe tbody tr th:only-of-type {\n",
       "        vertical-align: middle;\n",
       "    }\n",
       "\n",
       "    .dataframe tbody tr th {\n",
       "        vertical-align: top;\n",
       "    }\n",
       "\n",
       "    .dataframe thead th {\n",
       "        text-align: right;\n",
       "    }\n",
       "</style>\n",
       "<table border=\"1\" class=\"dataframe\">\n",
       "  <thead>\n",
       "    <tr style=\"text-align: right;\">\n",
       "      <th></th>\n",
       "      <th>enrollment</th>\n",
       "    </tr>\n",
       "  </thead>\n",
       "  <tbody>\n",
       "    <tr>\n",
       "      <th>0</th>\n",
       "      <td>1100093</td>\n",
       "    </tr>\n",
       "    <tr>\n",
       "      <th>1</th>\n",
       "      <td>596726</td>\n",
       "    </tr>\n",
       "    <tr>\n",
       "      <th>2</th>\n",
       "      <td>692812</td>\n",
       "    </tr>\n",
       "    <tr>\n",
       "      <th>3</th>\n",
       "      <td>422557</td>\n",
       "    </tr>\n",
       "    <tr>\n",
       "      <th>4</th>\n",
       "      <td>502572</td>\n",
       "    </tr>\n",
       "    <tr>\n",
       "      <th>...</th>\n",
       "      <td>...</td>\n",
       "    </tr>\n",
       "    <tr>\n",
       "      <th>44566</th>\n",
       "      <td>18</td>\n",
       "    </tr>\n",
       "    <tr>\n",
       "      <th>44567</th>\n",
       "      <td>373</td>\n",
       "    </tr>\n",
       "    <tr>\n",
       "      <th>44568</th>\n",
       "      <td>6</td>\n",
       "    </tr>\n",
       "    <tr>\n",
       "      <th>44569</th>\n",
       "      <td>223</td>\n",
       "    </tr>\n",
       "    <tr>\n",
       "      <th>44570</th>\n",
       "      <td>16</td>\n",
       "    </tr>\n",
       "  </tbody>\n",
       "</table>\n",
       "<p>44554 rows × 1 columns</p>\n",
       "</div>"
      ],
      "text/plain": [
       "       enrollment\n",
       "0         1100093\n",
       "1          596726\n",
       "2          692812\n",
       "3          422557\n",
       "4          502572\n",
       "...           ...\n",
       "44566          18\n",
       "44567         373\n",
       "44568           6\n",
       "44569         223\n",
       "44570          16\n",
       "\n",
       "[44554 rows x 1 columns]"
      ]
     },
     "execution_count": 56,
     "metadata": {},
     "output_type": "execute_result"
    }
   ],
   "source": [
    "final_data = udemyData.drop(['title'], axis = 1)\n",
    "final_data['category'] = udemyData['category'].map({'Tech': 1, 'Business': 2, 'Design': 3, 'Marketing': 4, 'Finance': 5})\n",
    "target_data = final_data.drop(['rating', 'category', 'ratio_exptoenroll', 'label', 'stars'], axis = 1)\n",
    "target_data"
   ]
  },
  {
   "cell_type": "code",
   "execution_count": 57,
   "id": "24f451a4",
   "metadata": {},
   "outputs": [
    {
     "data": {
      "text/html": [
       "<div>\n",
       "<style scoped>\n",
       "    .dataframe tbody tr th:only-of-type {\n",
       "        vertical-align: middle;\n",
       "    }\n",
       "\n",
       "    .dataframe tbody tr th {\n",
       "        vertical-align: top;\n",
       "    }\n",
       "\n",
       "    .dataframe thead th {\n",
       "        text-align: right;\n",
       "    }\n",
       "</style>\n",
       "<table border=\"1\" class=\"dataframe\">\n",
       "  <thead>\n",
       "    <tr style=\"text-align: right;\">\n",
       "      <th></th>\n",
       "      <th>category</th>\n",
       "      <th>label</th>\n",
       "    </tr>\n",
       "  </thead>\n",
       "  <tbody>\n",
       "    <tr>\n",
       "      <th>0</th>\n",
       "      <td>1</td>\n",
       "      <td>5</td>\n",
       "    </tr>\n",
       "    <tr>\n",
       "      <th>1</th>\n",
       "      <td>1</td>\n",
       "      <td>12</td>\n",
       "    </tr>\n",
       "    <tr>\n",
       "      <th>2</th>\n",
       "      <td>1</td>\n",
       "      <td>5</td>\n",
       "    </tr>\n",
       "    <tr>\n",
       "      <th>3</th>\n",
       "      <td>1</td>\n",
       "      <td>0</td>\n",
       "    </tr>\n",
       "    <tr>\n",
       "      <th>4</th>\n",
       "      <td>1</td>\n",
       "      <td>5</td>\n",
       "    </tr>\n",
       "    <tr>\n",
       "      <th>...</th>\n",
       "      <td>...</td>\n",
       "      <td>...</td>\n",
       "    </tr>\n",
       "    <tr>\n",
       "      <th>44566</th>\n",
       "      <td>2</td>\n",
       "      <td>5</td>\n",
       "    </tr>\n",
       "    <tr>\n",
       "      <th>44567</th>\n",
       "      <td>2</td>\n",
       "      <td>6</td>\n",
       "    </tr>\n",
       "    <tr>\n",
       "      <th>44568</th>\n",
       "      <td>2</td>\n",
       "      <td>6</td>\n",
       "    </tr>\n",
       "    <tr>\n",
       "      <th>44569</th>\n",
       "      <td>2</td>\n",
       "      <td>5</td>\n",
       "    </tr>\n",
       "    <tr>\n",
       "      <th>44570</th>\n",
       "      <td>2</td>\n",
       "      <td>5</td>\n",
       "    </tr>\n",
       "  </tbody>\n",
       "</table>\n",
       "<p>44554 rows × 2 columns</p>\n",
       "</div>"
      ],
      "text/plain": [
       "       category  label\n",
       "0             1      5\n",
       "1             1     12\n",
       "2             1      5\n",
       "3             1      0\n",
       "4             1      5\n",
       "...         ...    ...\n",
       "44566         2      5\n",
       "44567         2      6\n",
       "44568         2      6\n",
       "44569         2      5\n",
       "44570         2      5\n",
       "\n",
       "[44554 rows x 2 columns]"
      ]
     },
     "execution_count": 57,
     "metadata": {},
     "output_type": "execute_result"
    }
   ],
   "source": [
    "remaining_columns = final_data.drop(['rating', 'ratio_exptoenroll', 'enrollment', 'stars'], axis = 1)\n",
    "remaining_columns"
   ]
  },
  {
   "cell_type": "code",
   "execution_count": 75,
   "id": "e6831f6c",
   "metadata": {},
   "outputs": [],
   "source": [
    "X_train, X_test, y_train, y_test = train_test_split(remaining_columns, target_data,\n",
    "                                                    train_size=0.75, test_size=0.25, random_state=42)"
   ]
  },
  {
   "cell_type": "code",
   "execution_count": 59,
   "id": "a94b59b0",
   "metadata": {},
   "outputs": [],
   "source": [
    "# custom tpot configuration\n",
    "tpot_config = {\n",
    "    'sklearn.multioutput.MultiOutputRegressor': {\n",
    "    }\n",
    "}\n"
   ]
  },
  {
   "cell_type": "code",
   "execution_count": 60,
   "id": "0aca0a5e",
   "metadata": {},
   "outputs": [
    {
     "data": {
      "application/vnd.jupyter.widget-view+json": {
       "model_id": "",
       "version_major": 2,
       "version_minor": 0
      },
      "text/plain": [
       "Optimization Progress:   0%|          | 0/300 [00:00<?, ?pipeline/s]"
      ]
     },
     "metadata": {},
     "output_type": "display_data"
    },
    {
     "name": "stdout",
     "output_type": "stream",
     "text": [
      "\n",
      "Generation 1 - Current best internal CV score: -216591895.21658367\n",
      "\n",
      "Generation 2 - Current best internal CV score: -216591895.21658367\n",
      "\n",
      "Generation 3 - Current best internal CV score: -216588545.60322443\n",
      "\n",
      "Generation 4 - Current best internal CV score: -216588545.60322443\n",
      "\n",
      "Generation 5 - Current best internal CV score: -216588545.60322443\n",
      "\n",
      "Best pipeline: ExtraTreesRegressor(KNeighborsRegressor(input_matrix, n_neighbors=13, p=2, weights=uniform), bootstrap=True, max_features=0.6500000000000001, min_samples_leaf=11, min_samples_split=2, n_estimators=100)\n"
     ]
    },
    {
     "data": {
      "text/plain": [
       "TPOTRegressor(generations=5, population_size=50, random_state=42, verbosity=2)"
      ]
     },
     "execution_count": 60,
     "metadata": {},
     "output_type": "execute_result"
    }
   ],
   "source": [
    "tpot = TPOTRegressor(generations=5, population_size=50, verbosity=2, random_state=42)\n",
    "tpot.fit(X_train, y_train)"
   ]
  },
  {
   "cell_type": "code",
   "execution_count": 61,
   "id": "1baae379",
   "metadata": {},
   "outputs": [
    {
     "name": "stdout",
     "output_type": "stream",
     "text": [
      "-308280613.36439383\n"
     ]
    }
   ],
   "source": [
    "print(tpot.score(X_test, y_test))"
   ]
  },
  {
   "cell_type": "code",
   "execution_count": 62,
   "id": "e1082f9a",
   "metadata": {},
   "outputs": [],
   "source": [
    "preds = tpot.predict(X_test)"
   ]
  },
  {
   "cell_type": "code",
   "execution_count": 76,
   "id": "0125fd8c",
   "metadata": {},
   "outputs": [
    {
     "data": {
      "text/html": [
       "<div>\n",
       "<style scoped>\n",
       "    .dataframe tbody tr th:only-of-type {\n",
       "        vertical-align: middle;\n",
       "    }\n",
       "\n",
       "    .dataframe tbody tr th {\n",
       "        vertical-align: top;\n",
       "    }\n",
       "\n",
       "    .dataframe thead th {\n",
       "        text-align: right;\n",
       "    }\n",
       "</style>\n",
       "<table border=\"1\" class=\"dataframe\">\n",
       "  <thead>\n",
       "    <tr style=\"text-align: right;\">\n",
       "      <th></th>\n",
       "      <th>category</th>\n",
       "      <th>label</th>\n",
       "    </tr>\n",
       "  </thead>\n",
       "  <tbody>\n",
       "    <tr>\n",
       "      <th>34526</th>\n",
       "      <td>3</td>\n",
       "      <td>5</td>\n",
       "    </tr>\n",
       "    <tr>\n",
       "      <th>37729</th>\n",
       "      <td>2</td>\n",
       "      <td>13</td>\n",
       "    </tr>\n",
       "    <tr>\n",
       "      <th>21235</th>\n",
       "      <td>5</td>\n",
       "      <td>5</td>\n",
       "    </tr>\n",
       "    <tr>\n",
       "      <th>34029</th>\n",
       "      <td>3</td>\n",
       "      <td>5</td>\n",
       "    </tr>\n",
       "    <tr>\n",
       "      <th>34782</th>\n",
       "      <td>2</td>\n",
       "      <td>5</td>\n",
       "    </tr>\n",
       "    <tr>\n",
       "      <th>...</th>\n",
       "      <td>...</td>\n",
       "      <td>...</td>\n",
       "    </tr>\n",
       "    <tr>\n",
       "      <th>17259</th>\n",
       "      <td>4</td>\n",
       "      <td>5</td>\n",
       "    </tr>\n",
       "    <tr>\n",
       "      <th>23637</th>\n",
       "      <td>5</td>\n",
       "      <td>5</td>\n",
       "    </tr>\n",
       "    <tr>\n",
       "      <th>33340</th>\n",
       "      <td>3</td>\n",
       "      <td>5</td>\n",
       "    </tr>\n",
       "    <tr>\n",
       "      <th>14482</th>\n",
       "      <td>4</td>\n",
       "      <td>12</td>\n",
       "    </tr>\n",
       "    <tr>\n",
       "      <th>33946</th>\n",
       "      <td>3</td>\n",
       "      <td>5</td>\n",
       "    </tr>\n",
       "  </tbody>\n",
       "</table>\n",
       "<p>11139 rows × 2 columns</p>\n",
       "</div>"
      ],
      "text/plain": [
       "       category  label\n",
       "34526         3      5\n",
       "37729         2     13\n",
       "21235         5      5\n",
       "34029         3      5\n",
       "34782         2      5\n",
       "...         ...    ...\n",
       "17259         4      5\n",
       "23637         5      5\n",
       "33340         3      5\n",
       "14482         4     12\n",
       "33946         3      5\n",
       "\n",
       "[11139 rows x 2 columns]"
      ]
     },
     "execution_count": 76,
     "metadata": {},
     "output_type": "execute_result"
    }
   ],
   "source": [
    "X_test"
   ]
  },
  {
   "cell_type": "code",
   "execution_count": 63,
   "id": "b9d57082",
   "metadata": {},
   "outputs": [
    {
     "data": {
      "text/plain": [
       "array([1884.95949036, 2676.69555647, 1492.42537023, ..., 1884.95949036,\n",
       "       2677.43011675, 1884.95949036])"
      ]
     },
     "execution_count": 63,
     "metadata": {},
     "output_type": "execute_result"
    }
   ],
   "source": [
    "preds"
   ]
  },
  {
   "cell_type": "code",
   "execution_count": 64,
   "id": "af26ec61",
   "metadata": {},
   "outputs": [
    {
     "data": {
      "text/html": [
       "<div>\n",
       "<style scoped>\n",
       "    .dataframe tbody tr th:only-of-type {\n",
       "        vertical-align: middle;\n",
       "    }\n",
       "\n",
       "    .dataframe tbody tr th {\n",
       "        vertical-align: top;\n",
       "    }\n",
       "\n",
       "    .dataframe thead th {\n",
       "        text-align: right;\n",
       "    }\n",
       "</style>\n",
       "<table border=\"1\" class=\"dataframe\">\n",
       "  <thead>\n",
       "    <tr style=\"text-align: right;\">\n",
       "      <th></th>\n",
       "      <th>enrollment</th>\n",
       "    </tr>\n",
       "  </thead>\n",
       "  <tbody>\n",
       "    <tr>\n",
       "      <th>34526</th>\n",
       "      <td>8</td>\n",
       "    </tr>\n",
       "    <tr>\n",
       "      <th>37729</th>\n",
       "      <td>202</td>\n",
       "    </tr>\n",
       "    <tr>\n",
       "      <th>21235</th>\n",
       "      <td>9</td>\n",
       "    </tr>\n",
       "    <tr>\n",
       "      <th>34029</th>\n",
       "      <td>89</td>\n",
       "    </tr>\n",
       "    <tr>\n",
       "      <th>34782</th>\n",
       "      <td>8981</td>\n",
       "    </tr>\n",
       "    <tr>\n",
       "      <th>...</th>\n",
       "      <td>...</td>\n",
       "    </tr>\n",
       "    <tr>\n",
       "      <th>17259</th>\n",
       "      <td>33</td>\n",
       "    </tr>\n",
       "    <tr>\n",
       "      <th>23637</th>\n",
       "      <td>406</td>\n",
       "    </tr>\n",
       "    <tr>\n",
       "      <th>33340</th>\n",
       "      <td>155</td>\n",
       "    </tr>\n",
       "    <tr>\n",
       "      <th>14482</th>\n",
       "      <td>5</td>\n",
       "    </tr>\n",
       "    <tr>\n",
       "      <th>33946</th>\n",
       "      <td>33</td>\n",
       "    </tr>\n",
       "  </tbody>\n",
       "</table>\n",
       "<p>11139 rows × 1 columns</p>\n",
       "</div>"
      ],
      "text/plain": [
       "       enrollment\n",
       "34526           8\n",
       "37729         202\n",
       "21235           9\n",
       "34029          89\n",
       "34782        8981\n",
       "...           ...\n",
       "17259          33\n",
       "23637         406\n",
       "33340         155\n",
       "14482           5\n",
       "33946          33\n",
       "\n",
       "[11139 rows x 1 columns]"
      ]
     },
     "execution_count": 64,
     "metadata": {},
     "output_type": "execute_result"
    }
   ],
   "source": [
    "y_test"
   ]
  },
  {
   "cell_type": "markdown",
   "id": "6bec9d46",
   "metadata": {},
   "source": [
    "# Second approach"
   ]
  },
  {
   "cell_type": "code",
   "execution_count": 65,
   "id": "0d1fdf14",
   "metadata": {},
   "outputs": [
    {
     "data": {
      "text/plain": [
       "(44554, 1)"
      ]
     },
     "execution_count": 65,
     "metadata": {},
     "output_type": "execute_result"
    }
   ],
   "source": [
    "target_data.shape"
   ]
  },
  {
   "cell_type": "code",
   "execution_count": 66,
   "id": "dfe099a3",
   "metadata": {},
   "outputs": [],
   "source": [
    "X_train, X_test, y_train, y_test = train_test_split(tf_idf, target_data, test_size=0.3, random_state=0)\n"
   ]
  },
  {
   "cell_type": "code",
   "execution_count": 67,
   "id": "040ae129",
   "metadata": {},
   "outputs": [],
   "source": [
    "#tpot = TPOTRegressor(generations=5, population_size=50, verbosity=2, random_state=42)\n",
    "#tpot.fit(X_train, y_train)"
   ]
  },
  {
   "cell_type": "markdown",
   "id": "48e38bdb",
   "metadata": {},
   "source": [
    "# Prediction"
   ]
  },
  {
   "cell_type": "code",
   "execution_count": 91,
   "id": "03787079",
   "metadata": {},
   "outputs": [],
   "source": [
    "test_tdidf = vectorizer.transform([\"Artificial Intelligence\"]) "
   ]
  },
  {
   "cell_type": "code",
   "execution_count": 85,
   "id": "8305328c",
   "metadata": {},
   "outputs": [],
   "source": [
    "test_cluster = kmeans.predict(test_tdidf)"
   ]
  },
  {
   "cell_type": "code",
   "execution_count": 86,
   "id": "66b0fe6b",
   "metadata": {},
   "outputs": [
    {
     "data": {
      "text/plain": [
       "13"
      ]
     },
     "execution_count": 86,
     "metadata": {},
     "output_type": "execute_result"
    }
   ],
   "source": [
    "test_cluster[0]"
   ]
  },
  {
   "cell_type": "code",
   "execution_count": 92,
   "id": "e45d5949",
   "metadata": {},
   "outputs": [],
   "source": [
    "data = {'category': [1], 'label': [test_cluster[0]]}  \n",
    "# Create DataFrame  \n",
    "df = pd.DataFrame(data)  "
   ]
  },
  {
   "cell_type": "code",
   "execution_count": 93,
   "id": "82907abb",
   "metadata": {},
   "outputs": [
    {
     "data": {
      "text/html": [
       "<div>\n",
       "<style scoped>\n",
       "    .dataframe tbody tr th:only-of-type {\n",
       "        vertical-align: middle;\n",
       "    }\n",
       "\n",
       "    .dataframe tbody tr th {\n",
       "        vertical-align: top;\n",
       "    }\n",
       "\n",
       "    .dataframe thead th {\n",
       "        text-align: right;\n",
       "    }\n",
       "</style>\n",
       "<table border=\"1\" class=\"dataframe\">\n",
       "  <thead>\n",
       "    <tr style=\"text-align: right;\">\n",
       "      <th></th>\n",
       "      <th>category</th>\n",
       "      <th>label</th>\n",
       "    </tr>\n",
       "  </thead>\n",
       "  <tbody>\n",
       "    <tr>\n",
       "      <th>0</th>\n",
       "      <td>1</td>\n",
       "      <td>13</td>\n",
       "    </tr>\n",
       "  </tbody>\n",
       "</table>\n",
       "</div>"
      ],
      "text/plain": [
       "   category  label\n",
       "0         1     13"
      ]
     },
     "execution_count": 93,
     "metadata": {},
     "output_type": "execute_result"
    }
   ],
   "source": [
    "df"
   ]
  },
  {
   "cell_type": "code",
   "execution_count": 94,
   "id": "76859473",
   "metadata": {},
   "outputs": [],
   "source": [
    "preds = tpot.predict(df)"
   ]
  },
  {
   "cell_type": "code",
   "execution_count": 95,
   "id": "dc644d17",
   "metadata": {},
   "outputs": [
    {
     "data": {
      "text/plain": [
       "3644.075280755061"
      ]
     },
     "execution_count": 95,
     "metadata": {},
     "output_type": "execute_result"
    }
   ],
   "source": [
    "preds[0]"
   ]
  },
  {
   "cell_type": "code",
   "execution_count": null,
   "id": "f6649a53",
   "metadata": {},
   "outputs": [],
   "source": []
  }
 ],
 "metadata": {
  "kernelspec": {
   "display_name": "Python 3",
   "language": "python",
   "name": "python3"
  },
  "language_info": {
   "codemirror_mode": {
    "name": "ipython",
    "version": 3
   },
   "file_extension": ".py",
   "mimetype": "text/x-python",
   "name": "python",
   "nbconvert_exporter": "python",
   "pygments_lexer": "ipython3",
   "version": "3.8.8"
  }
 },
 "nbformat": 4,
 "nbformat_minor": 5
}
